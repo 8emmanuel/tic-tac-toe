{
 "cells": [
  {
   "cell_type": "code",
   "execution_count": 1,
   "id": "e807c2dc-966f-41d0-9526-d46f488175f5",
   "metadata": {},
   "outputs": [],
   "source": [
    "from IPython.display import clear_output\n",
    "\n",
    "def display_board(board):\n",
    "    \n",
    "    clear_output()\n",
    "    \n",
    "    print(board[7]+'|'+board[8]+'|'+board[9])\n",
    "    print(board[4]+'|'+board[5]+'|'+board[6])\n",
    "    print(board[1]+'|'+board[2]+'|'+board[3])\n",
    "    \n",
    "    pass"
   ]
  },
  {
   "cell_type": "code",
   "execution_count": 3,
   "id": "7752827e-b7af-4d69-8e94-1b4d41122315",
   "metadata": {},
   "outputs": [
    {
     "name": "stdout",
     "output_type": "stream",
     "text": [
      "X|O|X\n",
      "O|X|O\n",
      "X|O|X\n"
     ]
    }
   ],
   "source": [
    "#Creating a test board which will allow us to spot areas where adjustments need to be made\n",
    "\n",
    "test_board = ['#','X','O','X','O','X','O','X','O','X']\n",
    "display_board(test_board)"
   ]
  },
  {
   "cell_type": "code",
   "execution_count": 5,
   "id": "89bd90a7-3989-470f-8e1f-526de65f343b",
   "metadata": {},
   "outputs": [
    {
     "name": "stdout",
     "output_type": "stream",
     "text": [
      " | | \n",
      " | | \n",
      " | | \n"
     ]
    }
   ],
   "source": [
    "test_board = [' ']*10\n",
    "display_board(test_board)"
   ]
  },
  {
   "cell_type": "code",
   "execution_count": 7,
   "id": "6845661b-5d05-4dc2-8bec-36ce82f04bb1",
   "metadata": {},
   "outputs": [],
   "source": [
    "#Creating a function that will allow player to choose their marker for gameplay.\n",
    "\n",
    "def player_input():\n",
    "    \n",
    "    '''\n",
    "    OUTPUT = (Player 1 marker, Player 2 marker)\n",
    "    '''\n",
    "    \n",
    "    marker = ' '\n",
    "    \n",
    "    #keep asking player 1 to choose X or O\n",
    "    \n",
    "    while marker != 'X' and marker != 'O':\n",
    "        marker = input('Player 1, choose X or O: ').upper()\n",
    "    \n",
    "    if marker == 'X':\n",
    "        \n",
    "        return ('X','O')\n",
    "    else:\n",
    "        return('O','X')"
   ]
  },
  {
   "cell_type": "code",
   "execution_count": 9,
   "id": "cb8fda32-b895-410a-98e0-d45a13cc5fb1",
   "metadata": {},
   "outputs": [],
   "source": [
    "#Creating a function that accepts board lsit object, marker and desired board positon \n",
    "\n",
    "def place_marker(board, marker, position):\n",
    "    \n",
    "    board[position] = marker\n",
    "    pass"
   ]
  },
  {
   "cell_type": "code",
   "execution_count": null,
   "id": "30c9669b-678e-427d-b43b-029dd3489399",
   "metadata": {},
   "outputs": [],
   "source": []
  },
  {
   "cell_type": "code",
   "execution_count": 11,
   "id": "a0d841cc-1882-4b06-807f-de3a041298fa",
   "metadata": {},
   "outputs": [],
   "source": [
    "## Testing both functions"
   ]
  },
  {
   "cell_type": "code",
   "execution_count": 14,
   "id": "2e96afc8-3532-41f6-bc3c-6c5f46df195e",
   "metadata": {},
   "outputs": [
    {
     "name": "stdin",
     "output_type": "stream",
     "text": [
      "Player 1, choose X or O:  1\n",
      "Player 1, choose X or O:  x\n"
     ]
    },
    {
     "data": {
      "text/plain": [
       "('X', 'O')"
      ]
     },
     "execution_count": 14,
     "metadata": {},
     "output_type": "execute_result"
    }
   ],
   "source": [
    "player_input()"
   ]
  },
  {
   "cell_type": "code",
   "execution_count": 16,
   "id": "84c4a07e-13f6-4fb7-99da-e0c6c1e6f6f0",
   "metadata": {},
   "outputs": [
    {
     "name": "stdout",
     "output_type": "stream",
     "text": [
      " |$| \n",
      " | | \n",
      " | | \n"
     ]
    }
   ],
   "source": [
    "place_marker(test_board,'$',8)\n",
    "display_board(test_board)"
   ]
  },
  {
   "cell_type": "code",
   "execution_count": null,
   "id": "a5c6968b-a4bc-4d3c-94ec-9f8dfd6c9805",
   "metadata": {},
   "outputs": [],
   "source": []
  },
  {
   "cell_type": "code",
   "execution_count": 18,
   "id": "f77f2d6c-a55c-45a3-a1dc-4f3b92ca7a35",
   "metadata": {},
   "outputs": [],
   "source": [
    "# Creating a function that will check the board for all possibilities of a win\n",
    "\n",
    "def win_check(board, mark):\n",
    "    \n",
    "    return ((board[1] == board[2] == board[3] == mark) or\n",
    "    (board[4] == board[5] == board[6] == mark) or\n",
    "    (board[7] == board[8] == board[9] == mark) or\n",
    "    (board[1] == board[4] == board[7] == mark) or\n",
    "    (board[2] == board[5] == board[8] == mark) or\n",
    "    (board[3] == board[6] == board[9] == mark) or\n",
    "    (board[1] == board[5] == board[9] == mark) or\n",
    "    (board[3] == board[5] == board[7] == mark))\n",
    "    pass"
   ]
  },
  {
   "cell_type": "code",
   "execution_count": 20,
   "id": "1b940b63-2aa1-46e4-a2b3-e9b4f58f032f",
   "metadata": {},
   "outputs": [],
   "source": [
    "# Creating a function that uses a random module to decide which player goes first\n",
    "\n",
    "import random\n",
    "\n",
    "def choose_first():\n",
    "    \n",
    "    flip = random.randint(0,1)\n",
    "    \n",
    "    if flip == 0:\n",
    "        return 'Player 1'\n",
    "    else:\n",
    "        return 'Player 2'\n",
    "    pass"
   ]
  },
  {
   "cell_type": "code",
   "execution_count": 22,
   "id": "7f23446e-4eac-4459-a380-e480bc29b1e7",
   "metadata": {},
   "outputs": [],
   "source": [
    "# Creating a function which indicates if a space on the board is free\n",
    "\n",
    "def space_check(board, position):\n",
    "    \n",
    "    return board[position] == ' '\n",
    "    \n",
    "    pass"
   ]
  },
  {
   "cell_type": "code",
   "execution_count": 24,
   "id": "15364c05-9182-4cb4-9f8e-052a8c07e47c",
   "metadata": {},
   "outputs": [],
   "source": [
    "# Creating a function to check if the board is full. This function returns 'True' if full, 'False' if not\n",
    "\n",
    "def full_board_check(board):\n",
    "    \n",
    "    for i in range (1,10):\n",
    "        if space_check(board,i):\n",
    "            return False\n",
    "    #Board is full if we return True    \n",
    "    return True\n",
    "    \n",
    "    pass"
   ]
  },
  {
   "cell_type": "code",
   "execution_count": 26,
   "id": "03615a7d-5b76-4322-a70c-3f5b6d7b66ec",
   "metadata": {},
   "outputs": [],
   "source": [
    "# Function which request a players next position, incorporating the space_check function to see if this is a free position \n",
    "\n",
    "def player_choice(board):\n",
    "    \n",
    "    position = 0\n",
    "    \n",
    "    while position not in [1,2,3,4,5,6,7,8,9] or not space_check(board,position):\n",
    "        position = int(input('Choose a position: (1-9) '))\n",
    "        \n",
    "    return position"
   ]
  },
  {
   "cell_type": "code",
   "execution_count": 28,
   "id": "d2519e3b-f13d-4ef4-b058-e0ad1e3ce9c7",
   "metadata": {},
   "outputs": [],
   "source": [
    "# Function to check if the players want to restart a game \n",
    "\n",
    "def replay():\n",
    "    \n",
    "    choice = input(\"Restart? Enter Yes or No \")\n",
    "    \n",
    "    return choice == 'Yes'\n",
    "\n",
    "    pass"
   ]
  },
  {
   "cell_type": "code",
   "execution_count": 30,
   "id": "6de7b894-18fa-4c30-bb08-860f86e86214",
   "metadata": {},
   "outputs": [
    {
     "name": "stdout",
     "output_type": "stream",
     "text": [
      " |X|X\n",
      " |X|O\n",
      "O|O|O\n",
      "PLAYER 2 HAS WON!!\n"
     ]
    },
    {
     "name": "stdin",
     "output_type": "stream",
     "text": [
      "Restart? Enter Yes or No  n\n"
     ]
    }
   ],
   "source": [
    "# Putting the code together to create the TIC TAC TOE GAME\n",
    "\n",
    "print('Welcome to Tic Tac Toe!')\n",
    "\n",
    "#While look to keep running the game\n",
    "\n",
    "while True:\n",
    "    \n",
    "    #Play the game\n",
    "    \n",
    "    \n",
    "    ##Set everything up \n",
    "    the_board = [' ']*10\n",
    "    player1_marker,player2_marker = player_input()\n",
    "    \n",
    "    turn = choose_first()\n",
    "    print(turn + ' will go first')\n",
    "    \n",
    "    play_game = input('Ready to play? y or n?')\n",
    "    \n",
    "    if play_game == 'y':\n",
    "         game_on = True\n",
    "    else:\n",
    "        game_on = False\n",
    "       \n",
    "    ## game play\n",
    "    while game_on:\n",
    "            \n",
    "            if turn == 'Player 1':\n",
    "                \n",
    "                    display_board(the_board)\n",
    "                \n",
    "                    position = player_choice(the_board)\n",
    "                \n",
    "                    place_marker(the_board,player1_marker,position)\n",
    "                \n",
    "                    if win_check(the_board,player1_marker):\n",
    "                        display_board(the_board)\n",
    "                        print('PLAYER 1 HAS WON!!')\n",
    "                        game_on = False\n",
    "                    else:\n",
    "                        if full_board_check(the_board):\n",
    "                            display_board(the_board)\n",
    "                            print('TIE GAME!')\n",
    "                            game_on = False\n",
    "                        else:\n",
    "                            turn = 'Player 2'\n",
    "    \n",
    "            else:\n",
    "                if turn == 'Player 2':\n",
    "                \n",
    "                    display_board(the_board)\n",
    "                \n",
    "                    position = player_choice(the_board)\n",
    "                    \n",
    "                    place_marker(the_board,player2_marker,position)\n",
    "                \n",
    "                    if win_check(the_board,player2_marker):\n",
    "                        display_board(the_board)\n",
    "                        print('PLAYER 2 HAS WON!!')\n",
    "                        game_on = False\n",
    "                    else:\n",
    "                        if full_board_check(the_board):\n",
    "                            display_board(the_board)\n",
    "                            print('TIE GAME!')\n",
    "                            game_on = False\n",
    "                        else:\n",
    "                            turn = 'Player 1'\n",
    "      \n",
    "    \n",
    "    if not replay():\n",
    "        break"
   ]
  },
  {
   "cell_type": "code",
   "execution_count": null,
   "id": "3124ec3e-bfc0-4c63-a695-c003c6717d01",
   "metadata": {},
   "outputs": [],
   "source": []
  }
 ],
 "metadata": {
  "kernelspec": {
   "display_name": "Python [conda env:.conda]",
   "language": "python",
   "name": "conda-env-.conda-py"
  },
  "language_info": {
   "codemirror_mode": {
    "name": "ipython",
    "version": 3
   },
   "file_extension": ".py",
   "mimetype": "text/x-python",
   "name": "python",
   "nbconvert_exporter": "python",
   "pygments_lexer": "ipython3",
   "version": "3.11.5"
  }
 },
 "nbformat": 4,
 "nbformat_minor": 5
}
